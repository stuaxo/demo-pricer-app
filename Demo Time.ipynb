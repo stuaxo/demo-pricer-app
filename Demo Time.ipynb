{
 "cells": [
  {
   "cell_type": "markdown",
   "id": "a4a8f2c1",
   "metadata": {},
   "source": [
    "# Demo time"
   ]
  },
  {
   "cell_type": "markdown",
   "id": "1d667bff",
   "metadata": {},
   "source": [
    "### Start the web app\n",
    "In a terminal, start the webapp:\n",
    "\n",
    "```bash\n",
    "$ python pricer_app/main.py\n",
    "INFO:     Started server process [<PID>]\n",
    "INFO:     Waiting for application startup.\n",
    "INFO:     Application startup complete.\n",
    "INFO:     Uvicorn running on http://127.0.0.1:8000 (Press CTRL+C to quit)\n",
    "```"
   ]
  },
  {
   "cell_type": "markdown",
   "id": "66753a80",
   "metadata": {},
   "source": [
    "### Verify the app is up\n",
    "\n",
    "Use curl to check the app is up:\n",
    "\n",
    "```bash\n",
    "curl -X GET \"http://localhost:8000/market_data\" -H \"accept: application/json\" \n",
    "[]%\n",
    "```\n",
    "\n",
    "Since there is no data in the app it returns an empty list."
   ]
  },
  {
   "cell_type": "markdown",
   "id": "b2d2548a",
   "metadata": {},
   "source": [
    "### Populate the app by uploading data\n",
    "\n",
    "This is a good time to upload some data:\n",
    "    \n",
    "```bash\n",
    "$ curl -X POST \"http://localhost:8000/market-data/\" -H \"accept: application/json\" -H \"Content-Type: application/json\" -d '{\"contract\": {\"exchange_code\": \"NYMEX\", \"asset\": \"HH\", \"expiration_month\": \"Jan\", \"expiration_year\": \"23\", \"option_type\": \"Call\", \"strike_price\": 50, \"unit\": \"USD/MMBTu\"}, \"pricing_model\": \"Black76\", \"market_data\": {\"forward_price\": 48, \"strike_price\": 50, \"time_to_expiration\": 0.5, \"volatility\": 0.2, \"risk_free_interest_rate\": 0.05}}'\n",
    "```"
   ]
  }
 ],
 "metadata": {
  "kernelspec": {
   "display_name": "Python 3 (ipykernel)",
   "language": "python",
   "name": "python3"
  },
  "language_info": {
   "codemirror_mode": {
    "name": "ipython",
    "version": 3
   },
   "file_extension": ".py",
   "mimetype": "text/x-python",
   "name": "python",
   "nbconvert_exporter": "python",
   "pygments_lexer": "ipython3",
   "version": "3.10.6"
  }
 },
 "nbformat": 4,
 "nbformat_minor": 5
}
