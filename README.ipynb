{
 "cells": [
  {
   "cell_type": "markdown",
   "id": "b98632b5-65fe-463b-9de0-a1dd107effd4",
   "metadata": {
    "jp-MarkdownHeadingCollapsed": true
   },
   "source": [
    "# Pricer App\n",
    "\n",
    "This is a small demo program, written as a learning exercise.\n",
    "It implements a simple data store for market data on FastAPI and the Black76 pricing model.\n",
    "\n",
    "Data storage is implemented on SQLModel and PyDantic.\n",
    "\n",
    "The code is licensed under the GNU Affero License."
   ]
  },
  {
   "cell_type": "markdown",
   "id": "a4a8f2c1",
   "metadata": {},
   "source": [
    "# Running this demo\n",
    "\n",
    "This is a tiny demo API store market data for options, there is one pricing model, Black76."
   ]
  },
  {
   "cell_type": "markdown",
   "id": "1d667bff",
   "metadata": {},
   "source": [
    "### Start the web app\n",
    "In a terminal, start the webapp:\n",
    "\n",
    "```bash\n",
    "$ python pricer_app/main.py\n",
    "INFO:     Started server process [<PID>]\n",
    "INFO:     Waiting for application startup.\n",
    "INFO:     Application startup complete.\n",
    "INFO:     Uvicorn running on http://127.0.0.1:8000 (Press CTRL+C to quit)\n",
    "```\n",
    "\n",
    "Swagger docs are available to describe the API here:\n",
    "\n",
    "http://0.0.0.0:8000/docs"
   ]
  },
  {
   "cell_type": "markdown",
   "id": "66753a80",
   "metadata": {},
   "source": [
    "### Verify the app is up\n",
    "\n",
    "Use curl to check the app is up:\n",
    "\n",
    "```bash\n",
    "curl -X GET \"http://localhost:8000/market_data\" -H \"accept: application/json\" \n",
    "[]%\n",
    "```\n",
    "\n",
    "Since there is no data in the app it returns an empty list."
   ]
  },
  {
   "cell_type": "markdown",
   "id": "b2d2548a",
   "metadata": {},
   "source": [
    "### Populate the app by uploading data\n",
    "\n",
    "This is a good time to upload some data:\n",
    "    \n",
    "```bash\n",
    "$ curl -X 'POST' \\\n",
    "  'http://0.0.0.0:8000/market_data' \\\n",
    "  -H 'accept: application/json' \\\n",
    "  -H 'Content-Type: application/json' \\\n",
    "  -d '{\n",
    "    \"exchange_code\": \"NYMEX\",\n",
    "    \"contract\": \"BRN Jun21 Call Strike 50.0 USD\",\n",
    "    \"pricing_model\": \"Black76\",\n",
    "    \"market_data\": {\n",
    "        \"forward_price\": 100.0,\n",
    "        \"strike_price\": 50.0,\n",
    "        \"time_to_expiration\": 0.5,\n",
    "        \"volatility\": 0.2,\n",
    "        \"risk_free_interest_rate\": 0.03\n",
    "    }\n",
    "}\n",
    "```"
   ]
  },
  {
   "cell_type": "markdown",
   "id": "5b141cba-bfed-467c-b89d-3f2fcd595ea1",
   "metadata": {},
   "source": [
    "The data is returned, along with an id (for retrieval) and an upload timestamp.\n",
    "\n",
    "```json\n",
    "{\"exchange_code\":\"NYMEX\",\"upload_timestamp\":\"2024-02-13T22:04:02.168780\",\"id\":1,\"contract\":\"BRN Jun21 Call Strike 50.0 USD\",\"market_data\":\"{\\\"forward_price\\\": 100.0, \\\"strike_price\\\": 50.0, \\\"time_to_expiration\\\": 0.5, \\\"volatility\\\": 0.2, \\\"risk_free_interest_rate\\\": 0.03}\"}% \n",
    "```"
   ]
  },
  {
   "cell_type": "markdown",
   "id": "2c46686d-9212-4de2-9b3a-ca24a0ef5c0d",
   "metadata": {},
   "source": [
    "# Retrieving market data:\n",
    "\n",
    "Endpoints for retrieval are \n",
    "\n",
    "/market_data/{option_id}\n",
    "GET a single market data entry.\n",
    "\n",
    "/market_data\n",
    "GET all market data entries."
   ]
  },
  {
   "cell_type": "markdown",
   "id": "62d55305-8d6f-4c80-8900-eb1f56c853fa",
   "metadata": {},
   "source": [
    "## Retrieve a market data entry:\n",
    "\n",
    "Assuming the id of the market data created was, 1:\n",
    "```bash\n",
    "$ curl -X 'GET' \\\n",
    "  'http://0.0.0.0:8000/market_data/1' \\\n",
    "  -H 'accept: application/json' \\\n",
    "  -H 'Content-Type: application/json'\n",
    "```\n",
    "\n",
    "Data is returned:\n",
    "\n",
    "```json\n",
    "{\"exchange_code\":\"NYMEX\",\"upload_timestamp\":\"2024-02-13T22:04:02.168780\",\"id\":1,\"contract\":\"BRN Jun21 Call Strike 50.0 USD\",\"market_data\":\"{\\\"forward_price\\\": 100.0, \\\"strike_price\\\": 50.0, \\\"time_to_expiration\\\": 0.5, \\\"volatility\\\": 0.2, \\\"risk_free_interest_rate\\\": 0.03}\"}\n",
    "```"
   ]
  },
  {
   "cell_type": "markdown",
   "id": "4094ed60-7440-450d-ba5d-a345cb9710c9",
   "metadata": {},
   "source": [
    "# Options Pricing\n",
    "\n",
    "## Intro\n",
    "\n",
    "An endpoint to calculate the present value (PV) is provided at \n",
    "\n",
    "/option_pricing/{option_id}\n",
    "\n",
    "The user posts, the option type (call or put), a forward strike price 'F' and an option_id (the id of the market data object uploaded earlier).\n",
    "\n",
    "Data from the market data object is fetched so that present value can be calculated using Black76.\n",
    "\n",
    "For reference here is a table of the parameters from the POST and Market Data:\n",
    "### Data from POST\n",
    "\n",
    "| Parameter         | Description                            | Example Data Type |\n",
    "|-------------------|----------------------------------------|-------------------|\n",
    "| option_type       | Type of the option (e.g., Call or Put) | String            |\n",
    "| K (Strike Price)  | Strike price of the option             | Float             |\n",
    "\n",
    "### Market Data\n",
    "| Parameter            | Description                                       | Type  |\n",
    "|----------------------|---------------------------------------------------|-------|\n",
    "| F (Forward Price)    | Forward price of the asset underlying the option  | Float |\n",
    "| r (Risk-Free Rate)   | Risk-free interest rate applicable to the option  | Float |\n",
    "| sigma (Volatility)   | Volatility of the underlying asset                | Float |\n",
    "| T (Time to Maturity) | Time remaining until the option's expiration date | Float |\n",
    "\n",
    "\n",
    "### Demo\n",
    "\n",
    "```bash\n",
    "$ curl -X POST \"http://<your-server-address>/option_pricing/1\" \\\n",
    "     -H \"Content-Type: application/json\" \\\n",
    "     -d '{\n",
    "           \"option_type\": \"call\",\n",
    "           \"K\": 50.0\n",
    "         }'\n",
    "```\n",
    "\n",
    "A present value is returned:\n",
    "\n",
    "```json\n",
    "{\"pv\":49.25559786808824}\n",
    "```\n"
   ]
  }
 ],
 "metadata": {
  "kernelspec": {
   "display_name": "Python 3 (ipykernel)",
   "language": "python",
   "name": "python3"
  },
  "language_info": {
   "codemirror_mode": {
    "name": "ipython",
    "version": 3
   },
   "file_extension": ".py",
   "mimetype": "text/x-python",
   "name": "python",
   "nbconvert_exporter": "python",
   "pygments_lexer": "ipython3",
   "version": "3.11.4"
  }
 },
 "nbformat": 4,
 "nbformat_minor": 5
}
